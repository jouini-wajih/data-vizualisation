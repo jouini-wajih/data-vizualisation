{
 "cells": [
  {
   "cell_type": "code",
   "execution_count": 10,
   "id": "6f2b9e0a",
   "metadata": {},
   "outputs": [],
   "source": [
    "import pandas as pd\n",
    "import numpy as np"
   ]
  },
  {
   "cell_type": "code",
   "execution_count": 5,
   "id": "56573525",
   "metadata": {},
   "outputs": [],
   "source": [
    "data = pd.read_csv('student-mat.csv',sep=';')"
   ]
  },
  {
   "cell_type": "code",
   "execution_count": 7,
   "id": "fa61afdb",
   "metadata": {},
   "outputs": [],
   "source": [
    "data['final_result'] = (data['G1'] + data['G2'] + data['G3']) / 3 "
   ]
  },
  {
   "cell_type": "code",
   "execution_count": 14,
   "id": "7a6fe521",
   "metadata": {},
   "outputs": [],
   "source": [
    "data['success'] = np.where(data['final_result']>10,'succeed','fail')"
   ]
  },
  {
   "cell_type": "code",
   "execution_count": 15,
   "id": "dc134349",
   "metadata": {},
   "outputs": [
    {
     "data": {
      "text/plain": [
       "succeed    216\n",
       "fail       179\n",
       "Name: success, dtype: int64"
      ]
     },
     "execution_count": 15,
     "metadata": {},
     "output_type": "execute_result"
    }
   ],
   "source": [
    "data['success'].value_counts()"
   ]
  },
  {
   "cell_type": "code",
   "execution_count": 13,
   "id": "1350f828",
   "metadata": {},
   "outputs": [],
   "source": [
    "data.to_csv('processed_file.csv')"
   ]
  },
  {
   "cell_type": "code",
   "execution_count": 26,
   "id": "bda97be6",
   "metadata": {},
   "outputs": [
    {
     "data": {
      "text/plain": [
       "2    115\n",
       "3    100\n",
       "4     96\n",
       "1     82\n",
       "0      2\n",
       "Name: Fedu, dtype: int64"
      ]
     },
     "execution_count": 26,
     "metadata": {},
     "output_type": "execute_result"
    }
   ],
   "source": [
    "data['Fedu'].value_counts()"
   ]
  },
  {
   "cell_type": "code",
   "execution_count": 19,
   "id": "5bf67369",
   "metadata": {},
   "outputs": [
    {
     "data": {
      "text/plain": [
       "Index(['school', 'sex', 'age', 'address', 'famsize', 'Pstatus', 'Medu', 'Fedu',\n",
       "       'Mjob', 'Fjob', 'reason', 'guardian', 'traveltime', 'studytime',\n",
       "       'failures', 'schoolsup', 'famsup', 'paid', 'activities', 'nursery',\n",
       "       'higher', 'internet', 'romantic', 'famrel', 'freetime', 'goout', 'Dalc',\n",
       "       'Walc', 'health', 'absences', 'G1', 'G2', 'G3', 'final_result',\n",
       "       'success'],\n",
       "      dtype='object')"
      ]
     },
     "execution_count": 19,
     "metadata": {},
     "output_type": "execute_result"
    }
   ],
   "source": [
    "data.columns"
   ]
  }
 ],
 "metadata": {
  "kernelspec": {
   "display_name": "Python 3 (ipykernel)",
   "language": "python",
   "name": "python3"
  },
  "language_info": {
   "codemirror_mode": {
    "name": "ipython",
    "version": 3
   },
   "file_extension": ".py",
   "mimetype": "text/x-python",
   "name": "python",
   "nbconvert_exporter": "python",
   "pygments_lexer": "ipython3",
   "version": "3.11.4"
  }
 },
 "nbformat": 4,
 "nbformat_minor": 5
}
